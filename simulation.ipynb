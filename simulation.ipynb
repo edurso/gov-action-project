{
  "cells": [
    {
      "cell_type": "markdown",
      "metadata": {
        "colab_type": "text",
        "id": "view-in-github"
      },
      "source": [
        "<a href=\"https://colab.research.google.com/github/edurso/gov-action-project/blob/master/simulation.ipynb\" target=\"_parent\"><img src=\"https://colab.research.google.com/assets/colab-badge.svg\" alt=\"Open In Colab\"/></a>"
      ]
    },
    {
      "cell_type": "markdown",
      "metadata": {
        "id": "UrpoZBY6EG5g"
      },
      "source": [
        "year (2020, 2016, 2012, or 0 for testing)"
      ]
    },
    {
      "cell_type": "code",
      "execution_count": 1,
      "metadata": {
        "id": "Q8QPAchfENZN"
      },
      "outputs": [],
      "source": [
        "year = 2020"
      ]
    },
    {
      "cell_type": "markdown",
      "metadata": {
        "id": "slBfQNnU9jwJ"
      },
      "source": [
        "clone data and simulation to virtual environment"
      ]
    },
    {
      "cell_type": "code",
      "execution_count": 2,
      "metadata": {
        "colab": {
          "base_uri": "https://localhost:8080/"
        },
        "id": "Us9UAtbG9JE_",
        "outputId": "3e5f1030-5f31-4a0a-b3f4-b4d5b6d49523"
      },
      "outputs": [
        {
          "name": "stdout",
          "output_type": "stream",
          "text": [
            "Cloning into '/content/sim'...\n",
            "remote: Enumerating objects: 16, done.\u001b[K\n",
            "remote: Counting objects: 100% (16/16), done.\u001b[K\n",
            "remote: Compressing objects: 100% (13/13), done.\u001b[K\n",
            "remote: Total 16 (delta 2), reused 8 (delta 1), pack-reused 0\u001b[K\n",
            "Unpacking objects: 100% (16/16), done.\n"
          ]
        }
      ],
      "source": [
        "import os\n",
        "import pathlib\n",
        "import matplotlib.pyplot as plt\n",
        "%matplotlib inline\n",
        "\n",
        "!rm -rf /content/sim\n",
        "if not pathlib.Path('sim').exists():\n",
        "  !git clone --depth 1 https://github.com/edurso/gov-action-project /content/sim"
      ]
    },
    {
      "cell_type": "markdown",
      "metadata": {
        "id": "OBpcRo9Z96HI"
      },
      "source": [
        "run simulation"
      ]
    },
    {
      "cell_type": "code",
      "execution_count": null,
      "metadata": {
        "colab": {
          "base_uri": "https://localhost:8080/"
        },
        "id": "8zP5PBhM95Iv",
        "outputId": "b3eef89d-b436-4441-b14b-ca39b4bcb844"
      },
      "outputs": [
        {
          "name": "stdout",
          "output_type": "stream",
          "text": [
            "Using data for year 2020\n"
          ]
        }
      ],
      "source": [
        "os.chdir('sim')\n",
        "!python simulation.py {year}"
      ]
    }
  ],
  "metadata": {
    "colab": {
      "authorship_tag": "ABX9TyOQj56wI/PinSIXNcPhV0J/",
      "include_colab_link": true,
      "name": "simulation.ipynb",
      "provenance": []
    },
    "kernelspec": {
      "display_name": "Python 3",
      "name": "python3"
    },
    "language_info": {
      "name": "python"
    }
  },
  "nbformat": 4,
  "nbformat_minor": 0
}

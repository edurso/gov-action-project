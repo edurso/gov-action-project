{
  "cells": [
    {
      "cell_type": "markdown",
      "metadata": {
        "colab_type": "text",
        "id": "view-in-github"
      },
      "source": [
        "<a href=\"https://colab.research.google.com/github/edurso/gov-action-project/blob/master/simulation.ipynb\" target=\"_parent\"><img src=\"https://colab.research.google.com/assets/colab-badge.svg\" alt=\"Open In Colab\"/></a>"
      ]
    },
    {
      "cell_type": "markdown",
      "metadata": {},
      "source": [
        "# Simulation Driver\n",
        "\n",
        "simulates possible combinations of states switching to a congressional-district system of selecting presidential electors"
      ]
    },
    {
      "cell_type": "markdown",
      "metadata": {
        "id": "UrpoZBY6EG5g"
      },
      "source": [
        "year (2020, 2016, 2012, or 0 for testing)"
      ]
    },
    {
      "cell_type": "code",
      "execution_count": null,
      "metadata": {
        "id": "Q8QPAchfENZN"
      },
      "outputs": [],
      "source": [
        "years = [2012, 2016, 2020]"
      ]
    },
    {
      "cell_type": "markdown",
      "metadata": {
        "id": "slBfQNnU9jwJ"
      },
      "source": [
        "clone data and simulation to virtual environment"
      ]
    },
    {
      "cell_type": "code",
      "execution_count": null,
      "metadata": {
        "colab": {
          "base_uri": "https://localhost:8080/"
        },
        "id": "Us9UAtbG9JE_",
        "outputId": "3e5f1030-5f31-4a0a-b3f4-b4d5b6d49523"
      },
      "outputs": [],
      "source": [
        "import os\n",
        "import pathlib\n",
        "\n",
        "!rm -rf /content/sim\n",
        "if not pathlib.Path('sim').exists():\n",
        "  !git clone --depth 1 https://github.com/edurso/gov-action-project /content/sim"
      ]
    },
    {
      "cell_type": "markdown",
      "metadata": {
        "id": "OBpcRo9Z96HI"
      },
      "source": [
        "run simulation"
      ]
    },
    {
      "cell_type": "code",
      "execution_count": null,
      "metadata": {
        "colab": {
          "base_uri": "https://localhost:8080/"
        },
        "id": "8zP5PBhM95Iv",
        "outputId": "b3eef89d-b436-4441-b14b-ca39b4bcb844"
      },
      "outputs": [],
      "source": [
        "os.chdir('/content/sim/scripts')\n",
        "for year in years:\n",
        "\t!python simulation.py {year}"
      ]
    },
    {
      "cell_type": "markdown",
      "metadata": {},
      "source": [
        "run trend analysis"
      ]
    },
    {
      "cell_type": "code",
      "execution_count": null,
      "metadata": {},
      "outputs": [],
      "source": [
        "os.chdir('/content/sim/scripts')\n",
        "for year in years:\n",
        "\t!python trend.py {year}"
      ]
    },
    {
      "cell_type": "markdown",
      "metadata": {
        "id": "W9f8F-IkNVPO"
      },
      "source": [
        "download results"
      ]
    },
    {
      "cell_type": "code",
      "execution_count": null,
      "metadata": {
        "id": "QOzaw1tlNWRk"
      },
      "outputs": [],
      "source": [
        "from google.colab import files\n",
        "for year in years:\n",
        "\tfiles.download('/content/sim/out/results-{}.txt'.format(year))\n",
        "\tfiles.download('/content/sim/figs/data-{}.png'.format(year))\n",
        "\tfiles.download('/content/sim/out/trend-{}.txt'.format(year))\n",
        "\tfiles.download('/content/sim/figs/trend-{}.png'.format(year))"
      ]
    }
  ],
  "metadata": {
    "colab": {
      "include_colab_link": true,
      "name": "simulation.ipynb",
      "provenance": []
    },
    "kernelspec": {
      "display_name": "Python 3",
      "name": "python3"
    },
    "language_info": {
      "name": "python"
    }
  },
  "nbformat": 4,
  "nbformat_minor": 0
}

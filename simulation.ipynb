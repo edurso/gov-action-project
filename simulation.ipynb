{
  "nbformat": 4,
  "nbformat_minor": 0,
  "metadata": {
    "colab": {
      "name": "simulation.ipynb",
      "provenance": [],
      "authorship_tag": "ABX9TyOQj56wI/PinSIXNcPhV0J/",
      "include_colab_link": true
    },
    "kernelspec": {
      "name": "python3",
      "display_name": "Python 3"
    },
    "language_info": {
      "name": "python"
    }
  },
  "cells": [
    {
      "cell_type": "markdown",
      "metadata": {
        "id": "view-in-github",
        "colab_type": "text"
      },
      "source": [
        "<a href=\"https://colab.research.google.com/github/edurso/gov-action-project/blob/master/simulation.ipynb\" target=\"_parent\"><img src=\"https://colab.research.google.com/assets/colab-badge.svg\" alt=\"Open In Colab\"/></a>"
      ]
    },
    {
      "cell_type": "markdown",
      "source": [
        "year (2020, 2016, 2012, or 0 for testing)"
      ],
      "metadata": {
        "id": "UrpoZBY6EG5g"
      }
    },
    {
      "cell_type": "code",
      "source": [
        "year = 2020"
      ],
      "metadata": {
        "id": "Q8QPAchfENZN"
      },
      "execution_count": 1,
      "outputs": []
    },
    {
      "cell_type": "markdown",
      "source": [
        "clone data and simulation to virtual environment"
      ],
      "metadata": {
        "id": "slBfQNnU9jwJ"
      }
    },
    {
      "cell_type": "code",
      "execution_count": 2,
      "metadata": {
        "colab": {
          "base_uri": "https://localhost:8080/"
        },
        "id": "Us9UAtbG9JE_",
        "outputId": "3e5f1030-5f31-4a0a-b3f4-b4d5b6d49523"
      },
      "outputs": [
        {
          "output_type": "stream",
          "name": "stdout",
          "text": [
            "Cloning into '/content/sim'...\n",
            "remote: Enumerating objects: 16, done.\u001b[K\n",
            "remote: Counting objects: 100% (16/16), done.\u001b[K\n",
            "remote: Compressing objects: 100% (13/13), done.\u001b[K\n",
            "remote: Total 16 (delta 2), reused 8 (delta 1), pack-reused 0\u001b[K\n",
            "Unpacking objects: 100% (16/16), done.\n"
          ]
        }
      ],
      "source": [
        "import os\n",
        "import pathlib\n",
        "import matplotlib.pyplot as plt\n",
        "%matplotlib inline\n",
        "\n",
        "!rm -rf /content/sim\n",
        "if not pathlib.Path('sim').exists():\n",
        "  !git clone --depth 1 https://github.com/edurso/gov-action-project /content/sim"
      ]
    },
    {
      "cell_type": "markdown",
      "source": [
        "run simulation"
      ],
      "metadata": {
        "id": "OBpcRo9Z96HI"
      }
    },
    {
      "cell_type": "code",
      "source": [
        "os.chdir('sim')\n",
        "!python combinations.py {year}"
      ],
      "metadata": {
        "colab": {
          "base_uri": "https://localhost:8080/"
        },
        "id": "8zP5PBhM95Iv",
        "outputId": "b3eef89d-b436-4441-b14b-ca39b4bcb844"
      },
      "execution_count": null,
      "outputs": [
        {
          "output_type": "stream",
          "name": "stdout",
          "text": [
            "Using data for year 2020\n"
          ]
        }
      ]
    }
  ]
}